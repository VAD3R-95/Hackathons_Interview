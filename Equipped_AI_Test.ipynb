{
 "cells": [
  {
   "cell_type": "code",
   "execution_count": 68,
   "id": "27515c99",
   "metadata": {},
   "outputs": [],
   "source": [
    "import pandas as pd\n",
    "import warnings\n",
    "warnings.filterwarnings('ignore')\n",
    "import numpy as np\n",
    "from datetime import timedelta\n",
    "from functools import reduce"
   ]
  },
  {
   "cell_type": "code",
   "execution_count": 54,
   "id": "cf8b9a3b",
   "metadata": {},
   "outputs": [],
   "source": [
    "df_1 = pd.read_excel('Table1.xlsx')\n",
    "df_2 = pd.read_excel('Table2.xlsx')"
   ]
  },
  {
   "cell_type": "code",
   "execution_count": 55,
   "id": "f4a642a6",
   "metadata": {},
   "outputs": [
    {
     "data": {
      "text/html": [
       "<div>\n",
       "<style scoped>\n",
       "    .dataframe tbody tr th:only-of-type {\n",
       "        vertical-align: middle;\n",
       "    }\n",
       "\n",
       "    .dataframe tbody tr th {\n",
       "        vertical-align: top;\n",
       "    }\n",
       "\n",
       "    .dataframe thead th {\n",
       "        text-align: right;\n",
       "    }\n",
       "</style>\n",
       "<table border=\"1\" class=\"dataframe\">\n",
       "  <thead>\n",
       "    <tr style=\"text-align: right;\">\n",
       "      <th></th>\n",
       "      <th>LoanID</th>\n",
       "      <th>Region (English)</th>\n",
       "      <th>Outstanding Balance</th>\n",
       "      <th>Additional Payment</th>\n",
       "    </tr>\n",
       "  </thead>\n",
       "  <tbody>\n",
       "    <tr>\n",
       "      <th>0</th>\n",
       "      <td>499449</td>\n",
       "      <td>Adelaide</td>\n",
       "      <td>159.96</td>\n",
       "      <td>108</td>\n",
       "    </tr>\n",
       "    <tr>\n",
       "      <th>1</th>\n",
       "      <td>1560836</td>\n",
       "      <td>Algiers</td>\n",
       "      <td>1064.70</td>\n",
       "      <td>111</td>\n",
       "    </tr>\n",
       "    <tr>\n",
       "      <th>2</th>\n",
       "      <td>1565861</td>\n",
       "      <td>Athens</td>\n",
       "      <td>809.99</td>\n",
       "      <td>93</td>\n",
       "    </tr>\n",
       "    <tr>\n",
       "      <th>3</th>\n",
       "      <td>1580056</td>\n",
       "      <td>Adelaide</td>\n",
       "      <td>1163.89</td>\n",
       "      <td>188</td>\n",
       "    </tr>\n",
       "    <tr>\n",
       "      <th>4</th>\n",
       "      <td>1640416</td>\n",
       "      <td>Adelaide</td>\n",
       "      <td>265.58</td>\n",
       "      <td>157</td>\n",
       "    </tr>\n",
       "  </tbody>\n",
       "</table>\n",
       "</div>"
      ],
      "text/plain": [
       "    LoanID Region (English)  Outstanding Balance  Additional Payment\n",
       "0   499449         Adelaide               159.96                 108\n",
       "1  1560836          Algiers              1064.70                 111\n",
       "2  1565861           Athens               809.99                  93\n",
       "3  1580056         Adelaide              1163.89                 188\n",
       "4  1640416         Adelaide               265.58                 157"
      ]
     },
     "execution_count": 55,
     "metadata": {},
     "output_type": "execute_result"
    }
   ],
   "source": [
    "df_2.head()"
   ]
  },
  {
   "cell_type": "code",
   "execution_count": 56,
   "id": "8e51f146",
   "metadata": {},
   "outputs": [
    {
     "data": {
      "text/html": [
       "<div>\n",
       "<style scoped>\n",
       "    .dataframe tbody tr th:only-of-type {\n",
       "        vertical-align: middle;\n",
       "    }\n",
       "\n",
       "    .dataframe tbody tr th {\n",
       "        vertical-align: top;\n",
       "    }\n",
       "\n",
       "    .dataframe thead th {\n",
       "        text-align: right;\n",
       "    }\n",
       "</style>\n",
       "<table border=\"1\" class=\"dataframe\">\n",
       "  <thead>\n",
       "    <tr style=\"text-align: right;\">\n",
       "      <th></th>\n",
       "      <th>Product Group</th>\n",
       "      <th>LoanID</th>\n",
       "      <th>Status</th>\n",
       "      <th>Borrower ID</th>\n",
       "      <th>Borrower DOB (MM/DD/YYYY)</th>\n",
       "      <th>Region (Spanish)</th>\n",
       "      <th>Cut Off Date</th>\n",
       "      <th>Origination Date</th>\n",
       "      <th>Origination Balance</th>\n",
       "      <th>Loan MaturityDate</th>\n",
       "      <th>Default Amount</th>\n",
       "      <th>Insurance</th>\n",
       "    </tr>\n",
       "  </thead>\n",
       "  <tbody>\n",
       "    <tr>\n",
       "      <th>0</th>\n",
       "      <td>A</td>\n",
       "      <td>2946931</td>\n",
       "      <td>Defaulted</td>\n",
       "      <td>1842711</td>\n",
       "      <td>1978-03-01</td>\n",
       "      <td>Alejandría</td>\n",
       "      <td>2021-12-01</td>\n",
       "      <td>2018-09-20</td>\n",
       "      <td>6500.0</td>\n",
       "      <td>2023-09-01</td>\n",
       "      <td>124</td>\n",
       "      <td>N</td>\n",
       "    </tr>\n",
       "    <tr>\n",
       "      <th>1</th>\n",
       "      <td>A</td>\n",
       "      <td>2915187</td>\n",
       "      <td>Performing</td>\n",
       "      <td>281213</td>\n",
       "      <td>1973-09-01</td>\n",
       "      <td>Adelaida</td>\n",
       "      <td>2021-12-01</td>\n",
       "      <td>2018-08-22</td>\n",
       "      <td>9900.0</td>\n",
       "      <td>2026-09-01</td>\n",
       "      <td>0</td>\n",
       "      <td>N</td>\n",
       "    </tr>\n",
       "    <tr>\n",
       "      <th>2</th>\n",
       "      <td>A</td>\n",
       "      <td>2889592</td>\n",
       "      <td>Defaulted</td>\n",
       "      <td>1555948</td>\n",
       "      <td>1977-11-01</td>\n",
       "      <td>Arge</td>\n",
       "      <td>2021-12-01</td>\n",
       "      <td>2018-07-25</td>\n",
       "      <td>5600.0</td>\n",
       "      <td>2023-08-01</td>\n",
       "      <td>471</td>\n",
       "      <td>N</td>\n",
       "    </tr>\n",
       "    <tr>\n",
       "      <th>3</th>\n",
       "      <td>A</td>\n",
       "      <td>2752970</td>\n",
       "      <td>Performing</td>\n",
       "      <td>1595466</td>\n",
       "      <td>1961-01-01</td>\n",
       "      <td>Arge</td>\n",
       "      <td>2021-12-01</td>\n",
       "      <td>2018-03-19</td>\n",
       "      <td>5000.0</td>\n",
       "      <td>2022-03-01</td>\n",
       "      <td>0</td>\n",
       "      <td>Y</td>\n",
       "    </tr>\n",
       "    <tr>\n",
       "      <th>4</th>\n",
       "      <td>A</td>\n",
       "      <td>1883892</td>\n",
       "      <td>Performing</td>\n",
       "      <td>630149</td>\n",
       "      <td>1967-06-01</td>\n",
       "      <td>Alejandría</td>\n",
       "      <td>2021-12-01</td>\n",
       "      <td>2016-05-27</td>\n",
       "      <td>8200.0</td>\n",
       "      <td>2024-06-01</td>\n",
       "      <td>0</td>\n",
       "      <td>N</td>\n",
       "    </tr>\n",
       "  </tbody>\n",
       "</table>\n",
       "</div>"
      ],
      "text/plain": [
       "  Product Group   LoanID      Status  Borrower ID Borrower DOB (MM/DD/YYYY)  \\\n",
       "0             A  2946931   Defaulted      1842711                1978-03-01   \n",
       "1             A  2915187  Performing       281213                1973-09-01   \n",
       "2             A  2889592   Defaulted      1555948                1977-11-01   \n",
       "3             A  2752970  Performing      1595466                1961-01-01   \n",
       "4             A  1883892  Performing       630149                1967-06-01   \n",
       "\n",
       "  Region (Spanish) Cut Off Date Origination Date  Origination Balance  \\\n",
       "0       Alejandría   2021-12-01       2018-09-20               6500.0   \n",
       "1         Adelaida   2021-12-01       2018-08-22               9900.0   \n",
       "2             Arge   2021-12-01       2018-07-25               5600.0   \n",
       "3             Arge   2021-12-01       2018-03-19               5000.0   \n",
       "4       Alejandría   2021-12-01       2016-05-27               8200.0   \n",
       "\n",
       "  Loan MaturityDate  Default Amount Insurance  \n",
       "0        2023-09-01             124         N  \n",
       "1        2026-09-01               0         N  \n",
       "2        2023-08-01             471         N  \n",
       "3        2022-03-01               0         Y  \n",
       "4        2024-06-01               0         N  "
      ]
     },
     "execution_count": 56,
     "metadata": {},
     "output_type": "execute_result"
    }
   ],
   "source": [
    "df_1.head()"
   ]
  },
  {
   "cell_type": "markdown",
   "id": "534ae073",
   "metadata": {},
   "source": [
    "## ANS -1 "
   ]
  },
  {
   "cell_type": "code",
   "execution_count": 57,
   "id": "b88b776a",
   "metadata": {},
   "outputs": [
    {
     "data": {
      "text/plain": [
       "Product Group\n",
       "A    53.550466\n",
       "B    52.262411\n",
       "C    51.858904\n",
       "Name: diff_in_years, dtype: float64"
      ]
     },
     "execution_count": 57,
     "metadata": {},
     "output_type": "execute_result"
    }
   ],
   "source": [
    "df_1['diff_in_days'] = df_1['Cut Off Date'] - df_1['Borrower DOB (MM/DD/YYYY)'] \n",
    "df_1['diff_in_years'] = df_1[\"diff_in_days\"] / timedelta(days=365) \n",
    "avg_borrower_age = df_1.groupby('Product Group')['diff_in_years'].mean()\n",
    "avg_borrower_age"
   ]
  },
  {
   "cell_type": "code",
   "execution_count": 58,
   "id": "da15fee6",
   "metadata": {},
   "outputs": [
    {
     "data": {
      "text/html": [
       "<div>\n",
       "<style scoped>\n",
       "    .dataframe tbody tr th:only-of-type {\n",
       "        vertical-align: middle;\n",
       "    }\n",
       "\n",
       "    .dataframe tbody tr th {\n",
       "        vertical-align: top;\n",
       "    }\n",
       "\n",
       "    .dataframe thead th {\n",
       "        text-align: right;\n",
       "    }\n",
       "</style>\n",
       "<table border=\"1\" class=\"dataframe\">\n",
       "  <thead>\n",
       "    <tr style=\"text-align: right;\">\n",
       "      <th></th>\n",
       "      <th>orig_year</th>\n",
       "    </tr>\n",
       "    <tr>\n",
       "      <th>Product Group</th>\n",
       "      <th></th>\n",
       "    </tr>\n",
       "  </thead>\n",
       "  <tbody>\n",
       "    <tr>\n",
       "      <th>A</th>\n",
       "      <td>2015</td>\n",
       "    </tr>\n",
       "    <tr>\n",
       "      <th>B</th>\n",
       "      <td>2016</td>\n",
       "    </tr>\n",
       "    <tr>\n",
       "      <th>C</th>\n",
       "      <td>2011</td>\n",
       "    </tr>\n",
       "  </tbody>\n",
       "</table>\n",
       "</div>"
      ],
      "text/plain": [
       "               orig_year\n",
       "Product Group           \n",
       "A                   2015\n",
       "B                   2016\n",
       "C                   2011"
      ]
     },
     "execution_count": 58,
     "metadata": {},
     "output_type": "execute_result"
    }
   ],
   "source": [
    "df_1['orig_year'] = df_1['Origination Date'].dt.year\n",
    "origination_year = df_1.groupby('Product Group').agg({'orig_year':min})\n",
    "origination_year"
   ]
  },
  {
   "cell_type": "code",
   "execution_count": 59,
   "id": "1f843bbe",
   "metadata": {},
   "outputs": [
    {
     "data": {
      "text/html": [
       "<div>\n",
       "<style scoped>\n",
       "    .dataframe tbody tr th:only-of-type {\n",
       "        vertical-align: middle;\n",
       "    }\n",
       "\n",
       "    .dataframe tbody tr th {\n",
       "        vertical-align: top;\n",
       "    }\n",
       "\n",
       "    .dataframe thead th {\n",
       "        text-align: right;\n",
       "    }\n",
       "</style>\n",
       "<table border=\"1\" class=\"dataframe\">\n",
       "  <thead>\n",
       "    <tr style=\"text-align: right;\">\n",
       "      <th></th>\n",
       "      <th>Product Group</th>\n",
       "      <th>Total Accounts</th>\n",
       "    </tr>\n",
       "  </thead>\n",
       "  <tbody>\n",
       "    <tr>\n",
       "      <th>0</th>\n",
       "      <td>A</td>\n",
       "      <td>100</td>\n",
       "    </tr>\n",
       "    <tr>\n",
       "      <th>1</th>\n",
       "      <td>B</td>\n",
       "      <td>100</td>\n",
       "    </tr>\n",
       "    <tr>\n",
       "      <th>2</th>\n",
       "      <td>C</td>\n",
       "      <td>100</td>\n",
       "    </tr>\n",
       "  </tbody>\n",
       "</table>\n",
       "</div>"
      ],
      "text/plain": [
       "  Product Group  Total Accounts\n",
       "0             A             100\n",
       "1             B             100\n",
       "2             C             100"
      ]
     },
     "execution_count": 59,
     "metadata": {},
     "output_type": "execute_result"
    }
   ],
   "source": [
    "total_accounts = df_1.groupby('Product Group').size().reset_index()\n",
    "total_accounts.rename(columns={0:'Total Accounts'},inplace = True)\n",
    "total_accounts"
   ]
  },
  {
   "cell_type": "code",
   "execution_count": 60,
   "id": "b680864e",
   "metadata": {},
   "outputs": [
    {
     "data": {
      "text/html": [
       "<div>\n",
       "<style scoped>\n",
       "    .dataframe tbody tr th:only-of-type {\n",
       "        vertical-align: middle;\n",
       "    }\n",
       "\n",
       "    .dataframe tbody tr th {\n",
       "        vertical-align: top;\n",
       "    }\n",
       "\n",
       "    .dataframe thead th {\n",
       "        text-align: right;\n",
       "    }\n",
       "</style>\n",
       "<table border=\"1\" class=\"dataframe\">\n",
       "  <thead>\n",
       "    <tr style=\"text-align: right;\">\n",
       "      <th></th>\n",
       "      <th>Origination Balance</th>\n",
       "      <th>Outstanding Balance</th>\n",
       "    </tr>\n",
       "    <tr>\n",
       "      <th>Product Group</th>\n",
       "      <th></th>\n",
       "      <th></th>\n",
       "    </tr>\n",
       "  </thead>\n",
       "  <tbody>\n",
       "    <tr>\n",
       "      <th>A</th>\n",
       "      <td>750700.0</td>\n",
       "      <td>317553.24</td>\n",
       "    </tr>\n",
       "    <tr>\n",
       "      <th>B</th>\n",
       "      <td>1087600.0</td>\n",
       "      <td>472023.35</td>\n",
       "    </tr>\n",
       "    <tr>\n",
       "      <th>C</th>\n",
       "      <td>365487.1</td>\n",
       "      <td>114248.06</td>\n",
       "    </tr>\n",
       "  </tbody>\n",
       "</table>\n",
       "</div>"
      ],
      "text/plain": [
       "               Origination Balance  Outstanding Balance\n",
       "Product Group                                          \n",
       "A                         750700.0            317553.24\n",
       "B                        1087600.0            472023.35\n",
       "C                         365487.1            114248.06"
      ]
     },
     "execution_count": 60,
     "metadata": {},
     "output_type": "execute_result"
    }
   ],
   "source": [
    "df_3 = pd.merge(df_1,df_2,on='LoanID',how='inner')\n",
    "total_balances = df_3.groupby('Product Group').agg({'Origination Balance':sum,'Outstanding Balance':sum})\n",
    "total_balances"
   ]
  },
  {
   "cell_type": "code",
   "execution_count": 61,
   "id": "364f5f8a",
   "metadata": {},
   "outputs": [
    {
     "data": {
      "text/html": [
       "<div>\n",
       "<style scoped>\n",
       "    .dataframe tbody tr th:only-of-type {\n",
       "        vertical-align: middle;\n",
       "    }\n",
       "\n",
       "    .dataframe tbody tr th {\n",
       "        vertical-align: top;\n",
       "    }\n",
       "\n",
       "    .dataframe thead th {\n",
       "        text-align: right;\n",
       "    }\n",
       "</style>\n",
       "<table border=\"1\" class=\"dataframe\">\n",
       "  <thead>\n",
       "    <tr style=\"text-align: right;\">\n",
       "      <th></th>\n",
       "      <th>Product Group</th>\n",
       "      <th>Insured Loans</th>\n",
       "    </tr>\n",
       "  </thead>\n",
       "  <tbody>\n",
       "    <tr>\n",
       "      <th>0</th>\n",
       "      <td>A</td>\n",
       "      <td>5</td>\n",
       "    </tr>\n",
       "    <tr>\n",
       "      <th>1</th>\n",
       "      <td>B</td>\n",
       "      <td>22</td>\n",
       "    </tr>\n",
       "    <tr>\n",
       "      <th>2</th>\n",
       "      <td>C</td>\n",
       "      <td>15</td>\n",
       "    </tr>\n",
       "  </tbody>\n",
       "</table>\n",
       "</div>"
      ],
      "text/plain": [
       "  Product Group  Insured Loans\n",
       "0             A              5\n",
       "1             B             22\n",
       "2             C             15"
      ]
     },
     "execution_count": 61,
     "metadata": {},
     "output_type": "execute_result"
    }
   ],
   "source": [
    "innsured_loans = df_1.groupby('Product Group')['Insurance'].apply(lambda x: (x=='Y').sum()).reset_index(name='Insured Loans')\n",
    "innsured_loans"
   ]
  },
  {
   "cell_type": "code",
   "execution_count": 67,
   "id": "1ff5b2ea",
   "metadata": {},
   "outputs": [
    {
     "data": {
      "text/html": [
       "<div>\n",
       "<style scoped>\n",
       "    .dataframe tbody tr th:only-of-type {\n",
       "        vertical-align: middle;\n",
       "    }\n",
       "\n",
       "    .dataframe tbody tr th {\n",
       "        vertical-align: top;\n",
       "    }\n",
       "\n",
       "    .dataframe thead th {\n",
       "        text-align: right;\n",
       "    }\n",
       "</style>\n",
       "<table border=\"1\" class=\"dataframe\">\n",
       "  <thead>\n",
       "    <tr style=\"text-align: right;\">\n",
       "      <th></th>\n",
       "      <th>Product Group</th>\n",
       "      <th>LoanID</th>\n",
       "    </tr>\n",
       "  </thead>\n",
       "  <tbody>\n",
       "    <tr>\n",
       "      <th>0</th>\n",
       "      <td>A</td>\n",
       "      <td>2915187</td>\n",
       "    </tr>\n",
       "    <tr>\n",
       "      <th>1</th>\n",
       "      <td>B</td>\n",
       "      <td>2923352</td>\n",
       "    </tr>\n",
       "    <tr>\n",
       "      <th>2</th>\n",
       "      <td>C</td>\n",
       "      <td>2999641</td>\n",
       "    </tr>\n",
       "  </tbody>\n",
       "</table>\n",
       "</div>"
      ],
      "text/plain": [
       "  Product Group   LoanID\n",
       "0             A  2915187\n",
       "1             B  2923352\n",
       "2             C  2999641"
      ]
     },
     "execution_count": 67,
     "metadata": {},
     "output_type": "execute_result"
    }
   ],
   "source": [
    "max_maturity_date = df_1.groupby('Product Group').agg({'Loan MaturityDate':max})\n",
    "df_4  = pd.merge(max_maturity_date,df_1,on=['Product Group','Loan MaturityDate'],how='inner')\n",
    "loan_id_maturity = df_4.drop_duplicates(subset = ['Product Group', 'Loan MaturityDate'], keep = 'first').reset_index(drop = True)\n",
    "loanID_max_maturity = loan_id_maturity[['Product Group','LoanID']]\n",
    "loanID_max_maturity"
   ]
  },
  {
   "cell_type": "markdown",
   "id": "46f471f6",
   "metadata": {},
   "source": [
    "## ANS -2 "
   ]
  },
  {
   "cell_type": "code",
   "execution_count": 79,
   "id": "db7b4093",
   "metadata": {},
   "outputs": [
    {
     "data": {
      "text/html": [
       "<div>\n",
       "<style scoped>\n",
       "    .dataframe tbody tr th:only-of-type {\n",
       "        vertical-align: middle;\n",
       "    }\n",
       "\n",
       "    .dataframe tbody tr th {\n",
       "        vertical-align: top;\n",
       "    }\n",
       "\n",
       "    .dataframe thead th {\n",
       "        text-align: right;\n",
       "    }\n",
       "</style>\n",
       "<table border=\"1\" class=\"dataframe\">\n",
       "  <thead>\n",
       "    <tr style=\"text-align: right;\">\n",
       "      <th></th>\n",
       "      <th>Product Group</th>\n",
       "      <th>orig_year</th>\n",
       "      <th>Insured Loans</th>\n",
       "      <th>LoanID</th>\n",
       "      <th>Origination Balance</th>\n",
       "      <th>Outstanding Balance</th>\n",
       "      <th>Total Accounts</th>\n",
       "    </tr>\n",
       "  </thead>\n",
       "  <tbody>\n",
       "    <tr>\n",
       "      <th>0</th>\n",
       "      <td>A</td>\n",
       "      <td>2015</td>\n",
       "      <td>5</td>\n",
       "      <td>2915187</td>\n",
       "      <td>750700.0</td>\n",
       "      <td>317553.24</td>\n",
       "      <td>100</td>\n",
       "    </tr>\n",
       "    <tr>\n",
       "      <th>1</th>\n",
       "      <td>B</td>\n",
       "      <td>2016</td>\n",
       "      <td>22</td>\n",
       "      <td>2923352</td>\n",
       "      <td>1087600.0</td>\n",
       "      <td>472023.35</td>\n",
       "      <td>100</td>\n",
       "    </tr>\n",
       "    <tr>\n",
       "      <th>2</th>\n",
       "      <td>C</td>\n",
       "      <td>2011</td>\n",
       "      <td>15</td>\n",
       "      <td>2999641</td>\n",
       "      <td>365487.1</td>\n",
       "      <td>114248.06</td>\n",
       "      <td>100</td>\n",
       "    </tr>\n",
       "  </tbody>\n",
       "</table>\n",
       "</div>"
      ],
      "text/plain": [
       "  Product Group  orig_year  Insured Loans   LoanID  Origination Balance  \\\n",
       "0             A       2015              5  2915187             750700.0   \n",
       "1             B       2016             22  2923352            1087600.0   \n",
       "2             C       2011             15  2999641             365487.1   \n",
       "\n",
       "   Outstanding Balance  Total Accounts  \n",
       "0            317553.24             100  \n",
       "1            472023.35             100  \n",
       "2            114248.06             100  "
      ]
     },
     "execution_count": 79,
     "metadata": {},
     "output_type": "execute_result"
    }
   ],
   "source": [
    "df_test = [origination_year,innsured_loans,loanID_max_maturity,total_balances,total_accounts]\n",
    "df_ans_2 = reduce(lambda  left,right: pd.merge(left,right,on=['Product Group'],how='inner'), df_test)\n",
    "df_ans_2"
   ]
  },
  {
   "cell_type": "markdown",
   "id": "90e59e6a",
   "metadata": {},
   "source": [
    "## ANS -3 "
   ]
  },
  {
   "cell_type": "code",
   "execution_count": 80,
   "id": "5abd7e6c",
   "metadata": {},
   "outputs": [
    {
     "data": {
      "text/html": [
       "<div>\n",
       "<style scoped>\n",
       "    .dataframe tbody tr th:only-of-type {\n",
       "        vertical-align: middle;\n",
       "    }\n",
       "\n",
       "    .dataframe tbody tr th {\n",
       "        vertical-align: top;\n",
       "    }\n",
       "\n",
       "    .dataframe thead th {\n",
       "        text-align: right;\n",
       "    }\n",
       "</style>\n",
       "<table border=\"1\" class=\"dataframe\">\n",
       "  <thead>\n",
       "    <tr style=\"text-align: right;\">\n",
       "      <th></th>\n",
       "      <th>Product Group</th>\n",
       "      <th>LoanID</th>\n",
       "    </tr>\n",
       "  </thead>\n",
       "  <tbody>\n",
       "    <tr>\n",
       "      <th>0</th>\n",
       "      <td>A</td>\n",
       "      <td>2877789</td>\n",
       "    </tr>\n",
       "    <tr>\n",
       "      <th>1</th>\n",
       "      <td>B</td>\n",
       "      <td>2826001</td>\n",
       "    </tr>\n",
       "    <tr>\n",
       "      <th>2</th>\n",
       "      <td>C</td>\n",
       "      <td>2716547</td>\n",
       "    </tr>\n",
       "  </tbody>\n",
       "</table>\n",
       "</div>"
      ],
      "text/plain": [
       "  Product Group   LoanID\n",
       "0             A  2877789\n",
       "1             B  2826001\n",
       "2             C  2716547"
      ]
     },
     "execution_count": 80,
     "metadata": {},
     "output_type": "execute_result"
    }
   ],
   "source": [
    "max_originating_balance = df_1.groupby('Product Group').agg({'Origination Balance':max})\n",
    "df_merged  = pd.merge(max_originating_balance,df_1,on=['Product Group','Origination Balance'],how='inner')\n",
    "loan_id_originating_balance = df_merged.drop_duplicates(subset = ['Product Group', 'Origination Balance'], keep = 'first').reset_index(drop = True)\n",
    "loanID_max_originating_balance = loan_id_originating_balance[['Product Group','LoanID']]\n",
    "loanID_max_originating_balance"
   ]
  },
  {
   "cell_type": "markdown",
   "id": "adcef9b0",
   "metadata": {},
   "source": [
    "## ANS -4"
   ]
  },
  {
   "cell_type": "code",
   "execution_count": 78,
   "id": "6bef1bd6",
   "metadata": {},
   "outputs": [
    {
     "data": {
      "text/html": [
       "<div>\n",
       "<style scoped>\n",
       "    .dataframe tbody tr th:only-of-type {\n",
       "        vertical-align: middle;\n",
       "    }\n",
       "\n",
       "    .dataframe tbody tr th {\n",
       "        vertical-align: top;\n",
       "    }\n",
       "\n",
       "    .dataframe thead th {\n",
       "        text-align: right;\n",
       "    }\n",
       "</style>\n",
       "<table border=\"1\" class=\"dataframe\">\n",
       "  <thead>\n",
       "    <tr style=\"text-align: right;\">\n",
       "      <th></th>\n",
       "      <th>Product Group</th>\n",
       "      <th>Balance Ammortized</th>\n",
       "    </tr>\n",
       "  </thead>\n",
       "  <tbody>\n",
       "    <tr>\n",
       "      <th>0</th>\n",
       "      <td>A</td>\n",
       "      <td>0.423010</td>\n",
       "    </tr>\n",
       "    <tr>\n",
       "      <th>1</th>\n",
       "      <td>B</td>\n",
       "      <td>0.434005</td>\n",
       "    </tr>\n",
       "    <tr>\n",
       "      <th>2</th>\n",
       "      <td>C</td>\n",
       "      <td>0.312591</td>\n",
       "    </tr>\n",
       "  </tbody>\n",
       "</table>\n",
       "</div>"
      ],
      "text/plain": [
       "  Product Group  Balance Ammortized\n",
       "0             A            0.423010\n",
       "1             B            0.434005\n",
       "2             C            0.312591"
      ]
     },
     "execution_count": 78,
     "metadata": {},
     "output_type": "execute_result"
    }
   ],
   "source": [
    "df_ques3 = pd.merge(df_1,df_2,on='LoanID',how='inner')\n",
    "df_ans_3 = df_ques3.groupby(['Product Group']).apply(lambda x: x['Outstanding Balance'].sum()/x['Origination Balance'].sum()).reset_index(name='Balance Ammortized')\n",
    "df_ans_3"
   ]
  },
  {
   "cell_type": "code",
   "execution_count": null,
   "id": "a1b33195",
   "metadata": {},
   "outputs": [],
   "source": []
  }
 ],
 "metadata": {
  "kernelspec": {
   "display_name": "Python 3",
   "language": "python",
   "name": "python3"
  },
  "language_info": {
   "codemirror_mode": {
    "name": "ipython",
    "version": 3
   },
   "file_extension": ".py",
   "mimetype": "text/x-python",
   "name": "python",
   "nbconvert_exporter": "python",
   "pygments_lexer": "ipython3",
   "version": "3.8.8"
  }
 },
 "nbformat": 4,
 "nbformat_minor": 5
}
